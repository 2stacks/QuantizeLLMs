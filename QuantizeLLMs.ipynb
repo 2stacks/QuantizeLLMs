{
  "cells": [
    {
      "cell_type": "markdown",
      "metadata": {
        "colab_type": "text",
        "id": "view-in-github"
      },
      "source": [
        "<a href=\"https://colab.research.google.com/github/2stacks/QuantizeLLMs/blob/main/QuantizeLLMs.ipynb\" target=\"_parent\"><img src=\"https://colab.research.google.com/assets/colab-badge.svg\" alt=\"Open In Colab\"/></a>"
      ]
    },
    {
      "cell_type": "code",
      "execution_count": null,
      "metadata": {
        "id": "R2j4tk4ekyEd"
      },
      "outputs": [],
      "source": [
        "!!git clone https://github.com/ggerganov/llama.cpp"
      ]
    },
    {
      "cell_type": "code",
      "execution_count": null,
      "metadata": {
        "id": "yxAogQdulVCH"
      },
      "outputs": [],
      "source": [
        "!cd llama.cpp && GGML_CUDA=1 cmake -B build -DGGML_CUDA=ON && cmake --build build --config Release"
      ]
    },
    {
      "cell_type": "code",
      "execution_count": null,
      "metadata": {},
      "outputs": [],
      "source": [
        "!cd llama.cpp && pip install -r requirements.txt"
      ]
    },
    {
      "cell_type": "code",
      "execution_count": null,
      "metadata": {
        "id": "HF6yYzNZtd19"
      },
      "outputs": [],
      "source": [
        "from huggingface_hub import snapshot_download"
      ]
    },
    {
      "cell_type": "code",
      "execution_count": null,
      "metadata": {
        "id": "vw5v0tF_t6qX"
      },
      "outputs": [],
      "source": [
        "model_name = \"google/gemma-2b-it\""
      ]
    },
    {
      "cell_type": "code",
      "execution_count": null,
      "metadata": {
        "id": "aq5DxDOiubm-"
      },
      "outputs": [],
      "source": [
        "methods = [\"q4_k_m\"]"
      ]
    },
    {
      "cell_type": "code",
      "execution_count": null,
      "metadata": {
        "id": "yR27LvA_uwYm"
      },
      "outputs": [],
      "source": [
        "base_model = \"./orignal_model/\""
      ]
    },
    {
      "cell_type": "code",
      "execution_count": null,
      "metadata": {
        "id": "x4Ciwal7u5jx"
      },
      "outputs": [],
      "source": [
        "quantized_path = \"./quantized_model/\""
      ]
    },
    {
      "cell_type": "code",
      "execution_count": null,
      "metadata": {
        "id": "mUBryZ1wvSF6"
      },
      "outputs": [],
      "source": [
        "snapshot_download(repo_id=model_name, local_dir=base_model)"
      ]
    },
    {
      "cell_type": "code",
      "execution_count": null,
      "metadata": {
        "id": "5oFgQ1Pgw7eD"
      },
      "outputs": [],
      "source": [
        "orignal_model = quantized_path+\"/fp16.gguf\""
      ]
    },
    {
      "cell_type": "code",
      "execution_count": null,
      "metadata": {
        "id": "K9ANvmOtxLEg"
      },
      "outputs": [],
      "source": [
        "!mkdir ./quantized_model/"
      ]
    },
    {
      "cell_type": "code",
      "execution_count": null,
      "metadata": {
        "id": "ue-353Tj2ZFv"
      },
      "outputs": [],
      "source": [
        "!python llama.cpp/convert_hf_to_gguf.py ./orignal_model/ --outtype f16 --outfile ./quantized_model/FP16.gguf"
      ]
    },
    {
      "cell_type": "code",
      "execution_count": null,
      "metadata": {
        "id": "c7XTrFZh25ww"
      },
      "outputs": [],
      "source": [
        "import os"
      ]
    },
    {
      "cell_type": "code",
      "execution_count": null,
      "metadata": {
        "id": "vGU2XSuH4W4I"
      },
      "outputs": [],
      "source": [
        "for m in methods:\n",
        "  qtype = f\"{quantized_path}/{m.upper()}.gguf\"\n",
        "  os.system(\"./llama.cpp/build/bin/llama-quantize \"+quantized_path+\"/FP16.gguf \"+qtype+\" \"+m)"
      ]
    },
    {
      "cell_type": "code",
      "execution_count": null,
      "metadata": {
        "id": "oML4taGB6I6l"
      },
      "outputs": [],
      "source": [
        "! ./llama.cpp/build/bin/llama-cli -m ./quantized_model/Q4_K_M.gguf -n 90 --repeat_penalty 1.0 --color -i -r \"User: \" -f llama.cpp/prompts/chat-with-bob.txt"
      ]
    },
    {
      "cell_type": "code",
      "execution_count": null,
      "metadata": {
        "id": "C3gXkTXLAetI"
      },
      "outputs": [],
      "source": [
        "from huggingface_hub import HfApi, HfFolder, create_repo, upload_file"
      ]
    },
    {
      "cell_type": "code",
      "execution_count": null,
      "metadata": {
        "id": "kiMSy2PuAwG2"
      },
      "outputs": [],
      "source": [
        "model_path = \"./quantized_model/Q4_K_M.gguf\"\n",
        "repo_name = \"gemma-2b-it-GGUF-quantized\"\n",
        "repo_url = create_repo(repo_name, private=False)"
      ]
    },
    {
      "cell_type": "code",
      "execution_count": null,
      "metadata": {
        "id": "gOfEfRgbB47f"
      },
      "outputs": [],
      "source": [
        "api = HfApi()"
      ]
    },
    {
      "cell_type": "code",
      "execution_count": null,
      "metadata": {
        "colab": {
          "base_uri": "https://localhost:8080/",
          "height": 84,
          "referenced_widgets": [
            "142c94d6f7b54cdca12596df1892e09d",
            "34f4c1e6cadf49b0ba0dcfcdd47b43bb",
            "a978ccabd6234580a5a7af7bb6ae8555",
            "99bdbf2d528048c1a2c6b4ce9e984603",
            "b1e1ba1085734f3a9fbd242c8a6080a9",
            "1b5c12306a3946148af361aaf9735645",
            "ff4431bd2c2b4116832bb71354bb6d35",
            "65525d3928244f2c9c7a6119187094ba",
            "c61beea272824cd58303315783fe8da0",
            "aa9f16e7642e430589494c2c20c46359",
            "4a94205967d94274bae21112ad03c8e0"
          ]
        },
        "id": "DVd1C5IxB_eG",
        "outputId": "e82bac0b-8ff8-4753-f451-787114ee5d94"
      },
      "outputs": [],
      "source": [
        "api.upload_file(\n",
        "    path_or_fileobj=model_path,\n",
        "    path_in_repo=\"Q4_K_M.gguf\",\n",
        "    repo_id= \"2stacks/gemma-2b-it-GGUF-quantized\",\n",
        "    repo_type=\"model\",\n",
        ")"
      ]
    }
  ],
  "metadata": {
    "accelerator": "GPU",
    "colab": {
      "authorship_tag": "ABX9TyM0nMUdZgPDDhXk2W8dYuK5",
      "gpuType": "T4",
      "include_colab_link": true,
      "provenance": []
    },
    "kernelspec": {
      "display_name": "Python 3",
      "language": "python",
      "name": "python3"
    },
    "language_info": {
      "codemirror_mode": {
        "name": "ipython",
        "version": 3
      },
      "file_extension": ".py",
      "mimetype": "text/x-python",
      "name": "python",
      "nbconvert_exporter": "python",
      "pygments_lexer": "ipython3",
      "version": "3.12.11"
    }
  },
  "nbformat": 4,
  "nbformat_minor": 4
}
